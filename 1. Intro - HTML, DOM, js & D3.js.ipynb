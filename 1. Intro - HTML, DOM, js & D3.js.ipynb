{
 "cells": [
  {
   "cell_type": "markdown",
   "metadata": {},
   "source": [
    "Note: You can see some Jupyter shortcuts at https://www.dataquest.io/blog/jupyter-notebook-tips-tricks-shortcuts/"
   ]
  },
  {
   "cell_type": "markdown",
   "metadata": {},
   "source": [
    "# Introduction\n",
    "\n",
    "A one-step at a time introduction to using D3 in Jupyter\n",
    "\n",
    "First, start with: what is DOM? -> https://www.w3schools.com/whatis/whatis_htmldom.asp"
   ]
  },
  {
   "cell_type": "code",
   "execution_count": 1,
   "metadata": {},
   "outputs": [],
   "source": [
    "from IPython.core.display import HTML"
   ]
  },
  {
   "cell_type": "code",
   "execution_count": 2,
   "metadata": {},
   "outputs": [
    {
     "data": {
      "text/html": [
       "\n",
       "<h3>Hello DOM!</h3>\n"
      ],
      "text/plain": [
       "<IPython.core.display.HTML object>"
      ]
     },
     "execution_count": 2,
     "metadata": {},
     "output_type": "execute_result"
    }
   ],
   "source": [
    "HTML('''\n",
    "<h3>Hello DOM!</h3>\n",
    "''')"
   ]
  },
  {
   "cell_type": "markdown",
   "metadata": {},
   "source": [
    "We can set style by setting a class to HTML object"
   ]
  },
  {
   "cell_type": "code",
   "execution_count": 3,
   "metadata": {},
   "outputs": [
    {
     "data": {
      "text/html": [
       "\n",
       "<style>\n",
       ".steely {\n",
       "  color: steelblue;\n",
       "  font: 10px script;\n",
       "}\n",
       "</style>\n",
       "<h2 class=\"steely\">Hello DOM!</h2>\n"
      ],
      "text/plain": [
       "<IPython.core.display.HTML object>"
      ]
     },
     "execution_count": 3,
     "metadata": {},
     "output_type": "execute_result"
    }
   ],
   "source": [
    "HTML('''\n",
    "<style>\n",
    ".steely {\n",
    "  color: steelblue;\n",
    "  font: 10px script;\n",
    "}\n",
    "</style>\n",
    "<h2 class=\"steely\">Hello DOM!</h2>\n",
    "''')"
   ]
  },
  {
   "cell_type": "markdown",
   "metadata": {},
   "source": [
    "Javascript allow us to modify the DOM"
   ]
  },
  {
   "cell_type": "code",
   "execution_count": 4,
   "metadata": {},
   "outputs": [
    {
     "data": {
      "text/html": [
       "\n",
       "<style>\n",
       ".steely {\n",
       "  color: steelblue;\n",
       "  font: 10px script;\n",
       "}\n",
       "</style>\n",
       "<h2 class=\"steely\" id=\"steely-DOM\">Hello DOM!</h2>\n",
       "<script>$(\"#steely-DOM\").text(\"Hello JavaScript!!\")</script>\n"
      ],
      "text/plain": [
       "<IPython.core.display.HTML object>"
      ]
     },
     "execution_count": 4,
     "metadata": {},
     "output_type": "execute_result"
    }
   ],
   "source": [
    "HTML('''\n",
    "<style>\n",
    ".steely {\n",
    "  color: steelblue;\n",
    "  font: 10px script;\n",
    "}\n",
    "</style>\n",
    "<h2 class=\"steely\" id=\"steely-DOM\">Hello DOM!</h2>\n",
    "<script>$(\"#steely-DOM\").text(\"Hello JavaScript!!\")</script>\n",
    "''')"
   ]
  },
  {
   "cell_type": "markdown",
   "metadata": {},
   "source": [
    "---------"
   ]
  },
  {
   "cell_type": "markdown",
   "metadata": {},
   "source": [
    "## D3.js\n",
    "Stands for Data-Driven Documents\n",
    "\n",
    "D3.js is a Javascript library that allow us to modify the DOM with data. We can either use the online version of the library hosted at `https://d3js.org/d3.v3.min.js` or download the file locally. In our case, we have it in the folder lib."
   ]
  },
  {
   "cell_type": "code",
   "execution_count": 5,
   "metadata": {},
   "outputs": [
    {
     "data": {
      "text/html": [
       "<script src=\"lib/d3/d3.v3.min.js\"></script>"
      ],
      "text/plain": [
       "<IPython.core.display.HTML object>"
      ]
     },
     "execution_count": 5,
     "metadata": {},
     "output_type": "execute_result"
    }
   ],
   "source": [
    "# import the library - min.js refers to the minimized (unnecessary characters have been removed,)\n",
    "HTML('<script src=\"lib/d3/d3.v3.min.js\"></script>')"
   ]
  },
  {
   "cell_type": "markdown",
   "metadata": {},
   "source": [
    "We can create a template such that we are able to easily change our css or javascript files "
   ]
  },
  {
   "cell_type": "code",
   "execution_count": 6,
   "metadata": {},
   "outputs": [],
   "source": [
    "from string import Template\n",
    "from IPython.core.display import HTML\n",
    "\n",
    "html_template = Template('''\n",
    "<head>\n",
    "    <meta http-equiv=\"Content-Type\" content=\"text/html;charset=utf-8\">\n",
    "    <title>D3 Example</title>\n",
    "    <script src=\"lib/d3/d3.v3.min.js\"></script>\n",
    "    <style type=\"text/css\"> $css_text </style>\n",
    "</head>\n",
    "<body>\n",
    "<svg width=\"800\" height=\"600\" style=\"border:1px solid black\">\n",
    "    <!-- <rect x=\"10\" y=\"10\" width=\"100\" height=\"100\" fill=\"red\" />  -->\n",
    "    <text id=\"details\" x=\"50\" y=\"50\">Hello D3</text>\n",
    "</svg>\n",
    "\n",
    "<script type=\"text/javascript\"> $js_text </script>\n",
    "</body>\n",
    "''')\n",
    "\n",
    "css_text = '''\n",
    ".dots {\n",
    "    fill: steelblue;\n",
    "    fill-opacity: 0.75;\n",
    "    stroke: none;\n",
    "}\n",
    "\n",
    ".highlight {\n",
    "    fill: orange;\n",
    "}\n",
    "'''"
   ]
  },
  {
   "cell_type": "markdown",
   "metadata": {},
   "source": [
    "The general update pattern is used in pretty much every visualization that you’ll want to build with D3. It defines the behavior of elements in our data that should enter, update, or exit the screen.\n",
    "\n",
    "First, we’re binding our new array of data to our D3 selection:"
   ]
  },
  {
   "cell_type": "code",
   "execution_count": 7,
   "metadata": {},
   "outputs": [],
   "source": [
    "js_text = '''\n",
    "console.log(data);\n",
    "\n",
    "// JOIN new data with old elements.\n",
    "var circles = d3.select(\"svg\").selectAll(\"circle\")\n",
    "    .data(data); // bind the data to the circles.\n",
    "'''"
   ]
  },
  {
   "cell_type": "markdown",
   "metadata": {},
   "source": [
    "Next, this block of code will remove all the dots that no longer exist in our new array of data:"
   ]
  },
  {
   "cell_type": "code",
   "execution_count": 8,
   "metadata": {},
   "outputs": [],
   "source": [
    "js_text += '''\n",
    "// EXIT old elements not present in new data.\n",
    "circles.exit().remove()\n",
    "'''"
   ]
  },
  {
   "cell_type": "markdown",
   "metadata": {},
   "source": [
    "Here, we’re updating the position of all the dots on the screen that still exist in our new data array. Each of the SVG shapes have their own set of attributes (see https://www.dashingd3js.com/svg-basic-shapes-and-d3js). To change the position of a circle, we use `cx` and `cy`."
   ]
  },
  {
   "cell_type": "code",
   "execution_count": 9,
   "metadata": {},
   "outputs": [],
   "source": [
    "js_text += '''\n",
    "// Use scale.linear to map data to pixels:\n",
    "xscale = d3.scale.linear().domain([0, 5.5]).range([0, 800]);\n",
    "yscale = d3.scale.linear().domain([0, 10]).range([600, 0]);\n",
    "    \n",
    "// UPDATE old elements present in new data.\n",
    "circles\n",
    "    .attr(\"cx\", function(d){ return xscale(d.x_val) })\n",
    "    .attr(\"cy\", function(d){ return yscale(d.y_val) })\n",
    "'''"
   ]
  },
  {
   "cell_type": "markdown",
   "metadata": {},
   "source": [
    "Finally, we’re adding a dot for every item in our new data array that doesn’t have a corresponding circle on the screen."
   ]
  },
  {
   "cell_type": "code",
   "execution_count": 10,
   "metadata": {},
   "outputs": [],
   "source": [
    "js_text += '''\n",
    "// Use scale.linear to map data to pixels:\n",
    "xscale = d3.scale.linear().domain([0, 5.5]).range([0, 800]);\n",
    "yscale = d3.scale.linear().domain([0, 10]).range([600, 0]);\n",
    "\n",
    "// ENTER new elements present in new data.\n",
    "circles.enter()\n",
    "    .append(\"circle\") // for data that does not have an existing circle,\n",
    "    .attr(\"class\", \"dots\") // style sheet, see above\n",
    "    .attr(\"cx\", function(d){ return xscale(d.x_val) })\n",
    "    .attr(\"cy\", function(d){ return yscale(d.y_val) })\n",
    "    .attr(\"r\", 5)\n",
    "    .attr(\"fill\", \"grey\");\n",
    "'''"
   ]
  },
  {
   "cell_type": "markdown",
   "metadata": {},
   "source": [
    "With templates, we can insert Python variables"
   ]
  },
  {
   "cell_type": "code",
   "execution_count": 11,
   "metadata": {},
   "outputs": [],
   "source": [
    "js_text_template = Template('''\n",
    "var data = $data;\n",
    "''' + js_text)"
   ]
  },
  {
   "cell_type": "code",
   "execution_count": 12,
   "metadata": {},
   "outputs": [
    {
     "data": {
      "text/html": [
       "<div>\n",
       "<style scoped>\n",
       "    .dataframe tbody tr th:only-of-type {\n",
       "        vertical-align: middle;\n",
       "    }\n",
       "\n",
       "    .dataframe tbody tr th {\n",
       "        vertical-align: top;\n",
       "    }\n",
       "\n",
       "    .dataframe thead th {\n",
       "        text-align: right;\n",
       "    }\n",
       "</style>\n",
       "<table border=\"1\" class=\"dataframe\">\n",
       "  <thead>\n",
       "    <tr style=\"text-align: right;\">\n",
       "      <th></th>\n",
       "      <th>x_val</th>\n",
       "      <th>y_val</th>\n",
       "    </tr>\n",
       "  </thead>\n",
       "  <tbody>\n",
       "    <tr>\n",
       "      <td>0</td>\n",
       "      <td>0.5</td>\n",
       "      <td>1</td>\n",
       "    </tr>\n",
       "    <tr>\n",
       "      <td>1</td>\n",
       "      <td>1.0</td>\n",
       "      <td>2</td>\n",
       "    </tr>\n",
       "    <tr>\n",
       "      <td>2</td>\n",
       "      <td>1.5</td>\n",
       "      <td>3</td>\n",
       "    </tr>\n",
       "    <tr>\n",
       "      <td>3</td>\n",
       "      <td>2.0</td>\n",
       "      <td>4</td>\n",
       "    </tr>\n",
       "    <tr>\n",
       "      <td>4</td>\n",
       "      <td>2.5</td>\n",
       "      <td>5</td>\n",
       "    </tr>\n",
       "  </tbody>\n",
       "</table>\n",
       "</div>"
      ],
      "text/plain": [
       "   x_val  y_val\n",
       "0    0.5      1\n",
       "1    1.0      2\n",
       "2    1.5      3\n",
       "3    2.0      4\n",
       "4    2.5      5"
      ]
     },
     "execution_count": 12,
     "metadata": {},
     "output_type": "execute_result"
    }
   ],
   "source": [
    "import pandas as pd \n",
    "import json, random\n",
    "data = pd.DataFrame({'x_val': [0.5,1,1.5,2,2.5,3,3.5,4,4.5], 'y_val': [1,2,3,4,5,6,7,8,9]})\n",
    "data.head()"
   ]
  },
  {
   "cell_type": "code",
   "execution_count": 13,
   "metadata": {},
   "outputs": [
    {
     "data": {
      "text/html": [
       "\n",
       "<head>\n",
       "    <meta http-equiv=\"Content-Type\" content=\"text/html;charset=utf-8\">\n",
       "    <title>D3 Example</title>\n",
       "    <script src=\"lib/d3/d3.v3.min.js\"></script>\n",
       "    <style type=\"text/css\"> \n",
       ".dots {\n",
       "    fill: steelblue;\n",
       "    fill-opacity: 0.75;\n",
       "    stroke: none;\n",
       "}\n",
       "\n",
       ".highlight {\n",
       "    fill: orange;\n",
       "}\n",
       " </style>\n",
       "</head>\n",
       "<body>\n",
       "<svg width=\"800\" height=\"600\" style=\"border:1px solid black\">\n",
       "    <!-- <rect x=\"10\" y=\"10\" width=\"100\" height=\"100\" fill=\"red\" />  -->\n",
       "    <text id=\"details\" x=\"50\" y=\"50\">Hello D3</text>\n",
       "</svg>\n",
       "\n",
       "<script type=\"text/javascript\"> \n",
       "var data = [{\"x_val\": 0.5, \"y_val\": 1}, {\"x_val\": 1.0, \"y_val\": 2}, {\"x_val\": 1.5, \"y_val\": 3}, {\"x_val\": 2.0, \"y_val\": 4}, {\"x_val\": 2.5, \"y_val\": 5}, {\"x_val\": 3.0, \"y_val\": 6}, {\"x_val\": 3.5, \"y_val\": 7}, {\"x_val\": 4.0, \"y_val\": 8}, {\"x_val\": 4.5, \"y_val\": 9}];\n",
       "\n",
       "console.log(data);\n",
       "\n",
       "// JOIN new data with old elements.\n",
       "var circles = d3.select(\"svg\").selectAll(\"circle\")\n",
       "    .data(data); // bind the data to the circles.\n",
       "\n",
       "// EXIT old elements not present in new data.\n",
       "circles.exit().remove()\n",
       "\n",
       "// Use scaleLinear to map data to pixels:\n",
       "xscale = d3.scale.linear().domain([0, 5.5]).range([0, 800]);\n",
       "yscale = d3.scale.linear().domain([0, 10]).range([600, 0]);\n",
       "    \n",
       "// UPDATE old elements present in new data.\n",
       "circles\n",
       "    .attr(\"cx\", function(d){ return xscale(d.x_val) })\n",
       "    .attr(\"cy\", function(d){ return yscale(d.y_val) })\n",
       "\n",
       "// ENTER new elements present in new data.\n",
       "circles.enter()\n",
       "    .append(\"circle\") // for data that does not have an existing circle,\n",
       "    .attr(\"class\", \"dots\") // style sheet, see above\n",
       "    .attr(\"cx\", function(d){ return xscale(d.x_val) })\n",
       "    .attr(\"cy\", function(d){ return yscale(d.y_val) })\n",
       "    .attr(\"r\", 5)\n",
       "    .attr(\"fill\", \"grey\");\n",
       " </script>\n",
       "</body>\n"
      ],
      "text/plain": [
       "<IPython.core.display.HTML object>"
      ]
     },
     "execution_count": 13,
     "metadata": {},
     "output_type": "execute_result"
    }
   ],
   "source": [
    "js_text = js_text_template.substitute({'data': json.dumps(data.to_dict(orient='records'))})\n",
    "HTML(html_template.substitute({'css_text': css_text, 'js_text': js_text}))"
   ]
  },
  {
   "cell_type": "code",
   "execution_count": 60,
   "metadata": {},
   "outputs": [
    {
     "data": {
      "text/html": [
       "<script>\n",
       "var data = [{\"x_val\": 0.5, \"y_val\": 1.0478705590358184}, {\"x_val\": 1.0, \"y_val\": 7.9231903579157015}, {\"x_val\": 1.5, \"y_val\": 7.578615789043414}, {\"x_val\": 2.0, \"y_val\": 1.2273797505222561}, {\"x_val\": 2.5, \"y_val\": 6.971495715050699}, {\"x_val\": 3.0, \"y_val\": 0.04430067109134739}, {\"x_val\": 3.5, \"y_val\": 6.920236500910537}, {\"x_val\": 4.0, \"y_val\": 3.84429080592825}, {\"x_val\": 4.5, \"y_val\": 6.209947129254841}];\n",
       "\n",
       "console.log(data);\n",
       "\n",
       "// JOIN new data with old elements.\n",
       "var circles = d3.select(\"svg\").selectAll(\"circle\")\n",
       "    .data(data); // bind the data to the circles.\n",
       "\n",
       "// EXIT old elements not present in new data.\n",
       "circles.exit().remove()\n",
       "\n",
       "// Use scaleLinear to map data to pixels:\n",
       "xscale = d3.scale.linear().domain([0, 5.5]).range([0, 800]);\n",
       "yscale = d3.scale.linear().domain([0, 10]).range([600, 0]);\n",
       "    \n",
       "// UPDATE old elements present in new data.\n",
       "circles\n",
       "    .attr(\"cx\", function(d){ return xscale(d.x_val) })\n",
       "    .attr(\"cy\", function(d){ return yscale(d.y_val) })\n",
       "\n",
       "// ENTER new elements present in new data.\n",
       "circles.enter()\n",
       "    .append(\"circle\") // for data that does not have an existing circle,\n",
       "    .attr(\"class\", \"dots\") // style sheet, see above\n",
       "    .attr(\"cx\", function(d){ return xscale(d.x_val) })\n",
       "    .attr(\"cy\", function(d){ return yscale(d.y_val) })\n",
       "    .attr(\"r\", 5)\n",
       "    .attr(\"fill\", \"grey\");\n",
       "</script>"
      ],
      "text/plain": [
       "<IPython.core.display.HTML object>"
      ]
     },
     "execution_count": 60,
     "metadata": {},
     "output_type": "execute_result"
    }
   ],
   "source": [
    "data['y_val'] = [random.uniform(0,10) for d in data['y_val']]\n",
    "js_text = js_text_template.substitute({'data': json.dumps(data.to_dict(orient='records'))})\n",
    "HTML('<script>' + js_text + '</script>')"
   ]
  }
 ],
 "metadata": {
  "kernelspec": {
   "display_name": "Python 3",
   "language": "python",
   "name": "python3"
  },
  "language_info": {
   "codemirror_mode": {
    "name": "ipython",
    "version": 3
   },
   "file_extension": ".py",
   "mimetype": "text/x-python",
   "name": "python",
   "nbconvert_exporter": "python",
   "pygments_lexer": "ipython3",
   "version": "3.7.3"
  }
 },
 "nbformat": 4,
 "nbformat_minor": 1
}
